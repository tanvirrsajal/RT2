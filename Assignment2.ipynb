{
 "cells": [
  {
   "cell_type": "code",
   "execution_count": 1,
   "id": "b8161597",
   "metadata": {},
   "outputs": [],
   "source": [
    "import rospy\n",
    "import jupyros as jr\n",
    "from nav_msgs.msg import Odometry\n",
    "import actionlib\n",
    "import ipywidgets as widgets\n",
    "from IPython.display import display\n",
    "import matplotlib.pyplot as plt\n",
    "from matplotlib.animation import FuncAnimation\n",
    "import numpy as np\n",
    "from assignment_2_2023.msg import PlanningAction, PlanningGoal, Vel"
   ]
  },
  {
   "cell_type": "code",
   "execution_count": 2,
   "id": "8cceb54d",
   "metadata": {},
   "outputs": [],
   "source": [
    "# Initialize ROS node\n",
    "rospy.init_node('Jupyter3')"
   ]
  },
  {
   "cell_type": "code",
   "execution_count": 3,
   "id": "ba61bdfe",
   "metadata": {},
   "outputs": [],
   "source": [
    "# Global variables\n",
    "achieved_goals_count = 0\n",
    "cancelled_goals_count = 0\n",
    "sent_goals_count = 0\n",
    "x_goal, y_goal = (0, 0)\n",
    "new_goal_flag = False\n",
    "sent_goals_list = []\n",
    "cancelled_goals_list = []\n",
    "achieved_goals_list = []\n",
    "active_goal = False  # Flag to track if there is an active goal"
   ]
  },
  {
   "cell_type": "code",
   "execution_count": 4,
   "id": "529bb12e",
   "metadata": {},
   "outputs": [
    {
     "data": {
      "text/plain": [
       "True"
      ]
     },
     "execution_count": 4,
     "metadata": {},
     "output_type": "execute_result"
    }
   ],
   "source": [
    "# Set up the action client\n",
    "client = actionlib.SimpleActionClient('/reaching_goal', PlanningAction)\n",
    "client.wait_for_server()"
   ]
  },
  {
   "cell_type": "code",
   "execution_count": 5,
   "id": "6871be88",
   "metadata": {},
   "outputs": [],
   "source": [
    "# Function to send goal to action server\n",
    "def send_goal(x, y):\n",
    "    global x_goal, y_goal\n",
    "    goal = PlanningGoal()\n",
    "    goal.target_pose.pose.position.x = x\n",
    "    goal.target_pose.pose.position.y = y\n",
    "    client.send_goal(goal, feedback_cb=action_feedback_callback)\n",
    "    sent_goal_callback(goal)\n",
    "\n",
    "# Function to cancel the current goal\n",
    "def cancel_goal():\n",
    "    global active_goal\n",
    "    if active_goal:  # Only cancel if there is an active goal\n",
    "        client.cancel_goal()\n",
    "        cancelled_goal_callback()"
   ]
  },
  {
   "cell_type": "code",
   "execution_count": 6,
   "id": "1792fb6a",
   "metadata": {},
   "outputs": [],
   "source": [
    "# Create widgets for inputting x and y coordinates and buttons to send/cancel the goal\n",
    "x_input = widgets.FloatText(description='X Goal:')\n",
    "y_input = widgets.FloatText(description='Y Goal:')\n",
    "send_goal_button = widgets.Button(description='Send Goal')\n",
    "cancel_goal_button = widgets.Button(description='Cancel Goal')"
   ]
  },
  {
   "cell_type": "code",
   "execution_count": 7,
   "id": "9b38b121",
   "metadata": {},
   "outputs": [],
   "source": [
    "# Define the button click event for sending goal\n",
    "def on_send_goal_button_clicked(b):\n",
    "    send_goal(x_input.value, y_input.value)\n",
    "\n",
    "# Define the button click event for cancelling goal\n",
    "def on_cancel_goal_button_clicked(b):\n",
    "    cancel_goal()\n",
    "\n",
    "send_goal_button.on_click(on_send_goal_button_clicked)\n",
    "cancel_goal_button.on_click(on_cancel_goal_button_clicked)"
   ]
  },
  {
   "cell_type": "code",
   "execution_count": 8,
   "id": "16c8ddd3",
   "metadata": {},
   "outputs": [
    {
     "data": {
      "application/vnd.jupyter.widget-view+json": {
       "model_id": "8d20d6c286734c4a91da64fa4bbf9154",
       "version_major": 2,
       "version_minor": 0
      },
      "text/plain": [
       "VBox(children=(FloatText(value=0.0, description='X Goal:'), FloatText(value=0.0, description='Y Goal:'), Butto…"
      ]
     },
     "metadata": {},
     "output_type": "display_data"
    },
    {
     "name": "stdout",
     "output_type": "stream",
     "text": [
      "[INFO] [1717016376.069257, 4506.668000]: Goal cancelled\n"
     ]
    }
   ],
   "source": [
    "# Display the widgets\n",
    "display(widgets.VBox([x_input, y_input, send_goal_button, cancel_goal_button]))"
   ]
  },
  {
   "cell_type": "code",
   "execution_count": 9,
   "id": "7254de2c",
   "metadata": {},
   "outputs": [
    {
     "data": {
      "application/vnd.jupyter.widget-view+json": {
       "model_id": "b09d21b5580440e5b678cd3a7b3ff090",
       "version_major": 2,
       "version_minor": 0
      },
      "text/plain": [
       "Label(value='Current Pose')"
      ]
     },
     "metadata": {},
     "output_type": "display_data"
    },
    {
     "data": {
      "application/vnd.jupyter.widget-view+json": {
       "model_id": "7fa93853c877420186ac066d80a5c655",
       "version_major": 2,
       "version_minor": 0
      },
      "text/plain": [
       "FloatText(value=0.0, description='x:', disabled=True)"
      ]
     },
     "metadata": {},
     "output_type": "display_data"
    },
    {
     "data": {
      "application/vnd.jupyter.widget-view+json": {
       "model_id": "734062f2d5124ac7b68f39db70356020",
       "version_major": 2,
       "version_minor": 0
      },
      "text/plain": [
       "FloatText(value=0.0, description='y:', disabled=True)"
      ]
     },
     "metadata": {},
     "output_type": "display_data"
    }
   ],
   "source": [
    "# Display current position widgets\n",
    "current_position_label = widgets.Label(value='Current Pose')\n",
    "display(current_position_label)\n",
    "current_x_widget = widgets.FloatText(value=0, description='x:', disabled=True)\n",
    "display(current_x_widget)\n",
    "current_y_widget = widgets.FloatText(value=0, description='y:', disabled=True)\n",
    "display(current_y_widget)"
   ]
  },
  {
   "cell_type": "code",
   "execution_count": 10,
   "id": "772d5431",
   "metadata": {},
   "outputs": [],
   "source": [
    "# Widgets for displaying goals and statuses\n",
    "sent_goals_display = widgets.HTML(value='')\n",
    "cancelled_goals_display = widgets.HTML(value='')\n",
    "achieved_goals_display = widgets.HTML(value='')"
   ]
  },
  {
   "cell_type": "code",
   "execution_count": 11,
   "id": "135602b2",
   "metadata": {},
   "outputs": [],
   "source": [
    "def action_feedback_callback(feedback):\n",
    "    global achieved_goals_count, achieved_goals_list, achieved_goals_display, active_goal\n",
    "    if feedback.stat.strip() == 'Target reached!':\n",
    "        achieved_goals_count += 1\n",
    "        achieved_goals_list.append((x_goal, y_goal))\n",
    "        achieved_goals_display.value = \"<br>\".join(\n",
    "            f\"Pose {i + 1}: ({achieved_goals_list[i][0]}, {achieved_goals_list[i][1]})\"\n",
    "            for i in range(len(achieved_goals_list))\n",
    "        )\n",
    "        active_goal = False  # Goal is achieved, no active goal\n",
    "\n",
    "def cancelled_goal_callback():\n",
    "    global cancelled_goals_count, active_goal\n",
    "    if active_goal:  # Only cancel if there is an active goal\n",
    "        rospy.loginfo('Goal cancelled')\n",
    "        cancelled_goals_count += 1\n",
    "        cancelled_goals_list.append((x_goal, y_goal))\n",
    "        cancelled_goals_display.value = \"<br>\".join(\n",
    "            f\"Pose {i + 1}: ({cancelled_goals_list[i][0]}, {cancelled_goals_list[i][1]})\"\n",
    "            for i in range(len(cancelled_goals_list))\n",
    "        )\n",
    "        active_goal = False  # Goal is canceled, no active goal\n",
    "\n",
    "def sent_goal_callback(goal):\n",
    "    global x_goal, y_goal, new_goal_flag, sent_goals_count, sent_goals_list, sent_goals_display, active_goal\n",
    "    x_goal = goal.target_pose.pose.position.x\n",
    "    y_goal = goal.target_pose.pose.position.y\n",
    "    new_goal_flag = True\n",
    "    sent_goals_count += 1\n",
    "    sent_goals_list.append((x_goal, y_goal))\n",
    "    sent_goals_display.value = \"<br>\".join(\n",
    "        f\"Pose {i + 1}: ({sent_goals_list[i][0]}, {sent_goals_list[i][1]})\"\n",
    "        for i in range(len(sent_goals_list))\n",
    "    )\n",
    "    active_goal = True  # New goal is sent, active goal"
   ]
  },
  {
   "cell_type": "code",
   "execution_count": 12,
   "id": "a56096db",
   "metadata": {},
   "outputs": [],
   "source": [
    "# Visualization class for live plotting\n",
    "class GoalVisualizer:\n",
    "    def __init__(self):\n",
    "        self.fig, self.ax = plt.subplots()\n",
    "        self.ln, = plt.plot([], [], 'ro')\n",
    "        self.ln_goal, = plt.plot([], [], 'bs')\n",
    "        self.x_data, self.y_data = [], []\n",
    "        self.x_goals, self.y_goals = [], []\n",
    "    \n",
    "    def initialize_plot(self):\n",
    "        self.ax.set_xlim(-10, 10)\n",
    "        self.ax.set_ylim(-10, 10)\n",
    "        return self.ln, self.ln_goal\n",
    "    \n",
    "    def pose_callback(self, pose_msg):\n",
    "        self.update_pose_data(pose_msg)\n",
    "        self.update_goal_data()\n",
    "        self.update_current_location()\n",
    "    \n",
    "    def update_pose_data(self, pose_msg):\n",
    "        x = pose_msg.pose.pose.position.x\n",
    "        y = pose_msg.pose.pose.position.y\n",
    "        self.x_data.append(x)\n",
    "        self.y_data.append(y)\n",
    "    \n",
    "    def update_goal_data(self):\n",
    "        global new_goal_flag, sent_goals_display\n",
    "        if new_goal_flag:\n",
    "            self.x_goals.append(x_goal)\n",
    "            self.y_goals.append(y_goal)\n",
    "            new_goal_flag = False\n",
    "    \n",
    "    def update_current_location(self):\n",
    "        global current_x_widget, current_y_widget\n",
    "        current_x_widget.value = self.x_data[-1]\n",
    "        current_y_widget.value = self.y_data[-1]\n",
    "    \n",
    "    def update_plot(self, frame):\n",
    "        self.ln.set_data(self.x_data, self.y_data)\n",
    "        try:\n",
    "            self.ln_goal.set_data(self.x_goals[-1], self.y_goals[-1])\n",
    "        except IndexError:\n",
    "            pass\n",
    "        return self.ln, self.ln_goal"
   ]
  },
  {
   "cell_type": "code",
   "execution_count": 13,
   "id": "b895a4e9",
   "metadata": {},
   "outputs": [
    {
     "data": {
      "application/vnd.jupyter.widget-view+json": {
       "model_id": "7503b5b241ed48b090478cad6d090f2b",
       "version_major": 2,
       "version_minor": 0
      },
      "text/plain": [
       "Canvas(toolbar=Toolbar(toolitems=[('Home', 'Reset original view', 'home', 'home'), ('Back', 'Back to previous …"
      ]
     },
     "metadata": {},
     "output_type": "display_data"
    }
   ],
   "source": [
    "# Initialize visualization\n",
    "%matplotlib widget\n",
    "visualizer = GoalVisualizer()\n",
    "rospy.Subscriber(\"/odom\", Odometry, callback=visualizer.pose_callback)\n",
    "animation = FuncAnimation(visualizer.fig, visualizer.update_plot, init_func=visualizer.initialize_plot, blit=True, interval=100)\n",
    "plt.show(block=True)"
   ]
  },
  {
   "cell_type": "code",
   "execution_count": 14,
   "id": "c5bc9f73",
   "metadata": {},
   "outputs": [
    {
     "data": {
      "application/vnd.jupyter.widget-view+json": {
       "model_id": "a3f7537f0b3b440993048ca9f76275c0",
       "version_major": 2,
       "version_minor": 0
      },
      "text/plain": [
       "Label(value='Sent Goals:')"
      ]
     },
     "metadata": {},
     "output_type": "display_data"
    },
    {
     "data": {
      "application/vnd.jupyter.widget-view+json": {
       "model_id": "40958dcb57f84d44ab8532060298e7bc",
       "version_major": 2,
       "version_minor": 0
      },
      "text/plain": [
       "HTML(value='')"
      ]
     },
     "metadata": {},
     "output_type": "display_data"
    },
    {
     "data": {
      "application/vnd.jupyter.widget-view+json": {
       "model_id": "2f96d10d15d043ad8e5bd633606b10ad",
       "version_major": 2,
       "version_minor": 0
      },
      "text/plain": [
       "Label(value='Achieved Goals:')"
      ]
     },
     "metadata": {},
     "output_type": "display_data"
    },
    {
     "data": {
      "application/vnd.jupyter.widget-view+json": {
       "model_id": "3f58845277594d9bbf0091e1c236876a",
       "version_major": 2,
       "version_minor": 0
      },
      "text/plain": [
       "HTML(value='')"
      ]
     },
     "metadata": {},
     "output_type": "display_data"
    },
    {
     "data": {
      "application/vnd.jupyter.widget-view+json": {
       "model_id": "0f1e3ec2ec0a4901af962817dde32b8b",
       "version_major": 2,
       "version_minor": 0
      },
      "text/plain": [
       "Label(value='Cancelled Goals:')"
      ]
     },
     "metadata": {},
     "output_type": "display_data"
    },
    {
     "data": {
      "application/vnd.jupyter.widget-view+json": {
       "model_id": "c3b9c7e2dc0041b2ab967310818749be",
       "version_major": 2,
       "version_minor": 0
      },
      "text/plain": [
       "HTML(value='')"
      ]
     },
     "metadata": {},
     "output_type": "display_data"
    }
   ],
   "source": [
    "# Display goal statuses\n",
    "sent_goal_label = widgets.Label(value='Sent Goals:')\n",
    "display(sent_goal_label)\n",
    "display(sent_goals_display)\n",
    "\n",
    "achieved_goal_label = widgets.Label(value='Achieved Goals:')\n",
    "display(achieved_goal_label)\n",
    "display(achieved_goals_display)\n",
    "\n",
    "cancelled_goal_label = widgets.Label(value='Cancelled Goals:')\n",
    "display(cancelled_goal_label)\n",
    "display(cancelled_goals_display)"
   ]
  },
  {
   "cell_type": "code",
   "execution_count": 15,
   "id": "0f1029a6",
   "metadata": {},
   "outputs": [
    {
     "data": {
      "application/vnd.jupyter.widget-view+json": {
       "model_id": "3d507e3771314fb9988dbac8447b0ce2",
       "version_major": 2,
       "version_minor": 0
      },
      "text/plain": [
       "Canvas(toolbar=Toolbar(toolitems=[('Home', 'Reset original view', 'home', 'home'), ('Back', 'Back to previous …"
      ]
     },
     "metadata": {},
     "output_type": "display_data"
    }
   ],
   "source": [
    "# Plot goal statistics\n",
    "fig, ax = plt.subplots()\n",
    "def update_goal_statistics(frame):\n",
    "    xlabels = ['Sent', 'Achieved', 'Cancelled']\n",
    "    count = [len(sent_goals_list), len(achieved_goals_list), len(cancelled_goals_list)]\n",
    "    ax.cla()\n",
    "    ax.bar(xlabels, count, color=['blue', 'green', 'red'], width=0.6)\n",
    "    plt.show()\n",
    "\n",
    "statistics_animation = FuncAnimation(fig, update_goal_statistics)"
   ]
  }
 ],
 "metadata": {
  "kernelspec": {
   "display_name": "Python 3 (ipykernel)",
   "language": "python",
   "name": "python3"
  },
  "language_info": {
   "codemirror_mode": {
    "name": "ipython",
    "version": 3
   },
   "file_extension": ".py",
   "mimetype": "text/x-python",
   "name": "python",
   "nbconvert_exporter": "python",
   "pygments_lexer": "ipython3",
   "version": "3.8.5"
  }
 },
 "nbformat": 4,
 "nbformat_minor": 5
}
